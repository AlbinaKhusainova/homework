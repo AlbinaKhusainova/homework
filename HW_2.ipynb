{
 "cells": [
  {
   "cell_type": "markdown",
   "id": "ce66125d-4f86-4ebe-9c21-01aab87de786",
   "metadata": {},
   "source": [
    "Задание 1"
   ]
  },
  {
   "cell_type": "code",
   "execution_count": 19,
   "id": "ed7f9337-cd3f-4980-9a39-4cc1040b936b",
   "metadata": {},
   "outputs": [
    {
     "name": "stdout",
     "output_type": "stream",
     "text": [
      "Результат:  es\n"
     ]
    }
   ],
   "source": [
    "word = 'test'\n",
    "word_length = len(word)\n",
    "middle_index = word_length//2\n",
    "if word_length%2==0:\n",
    "    print('Результат: ', word[middle_index-1 : middle_index+1])\n",
    "else:\n",
    "    print('Результат: ', word[middle_index+1])"
   ]
  },
  {
   "cell_type": "code",
   "execution_count": 18,
   "id": "e571e56e-aae4-4438-a566-60bdc4df1e2a",
   "metadata": {},
   "outputs": [
    {
     "name": "stdout",
     "output_type": "stream",
     "text": [
      "Результат:  t\n"
     ]
    }
   ],
   "source": [
    "word = 'testing'\n",
    "word_length = len(word)\n",
    "middle_index = word_length//2\n",
    "if word_length%2==0:\n",
    "    print('Результат: ', word[middle_index-1 : middle_index+1])\n",
    "else:\n",
    "    print('Результат: ', word[middle_index])"
   ]
  },
  {
   "cell_type": "markdown",
   "id": "0a70deca-0361-4243-b65f-b8a441e906f1",
   "metadata": {},
   "source": [
    "Задание 2"
   ]
  },
  {
   "cell_type": "code",
   "execution_count": 30,
   "id": "63d460e7-75ad-4297-8c98-562a852c1ac4",
   "metadata": {},
   "outputs": [
    {
     "name": "stdout",
     "output_type": "stream",
     "text": [
      "Результат:\n",
      "Идеальные пары:\n",
      "Alex и Emma\n",
      "Arthur и Kate\n",
      "John и Kira\n",
      "Peter и Liza\n",
      "Richard и Trisha\n"
     ]
    }
   ],
   "source": [
    "boys = ['Peter', 'Alex', 'John', 'Arthur', 'Richard'] \n",
    "girls = ['Kate', 'Liza', 'Kira', 'Emma', 'Trisha'] \n",
    "boys.sort()\n",
    "girls.sort()\n",
    "if len(boys)!=len(girls):\n",
    "    print('Результат: Внимание, кто-то может остаться без пары!')\n",
    "else:\n",
    "    print('Результат:\\nИдеальные пары:')\n",
    "    for b, g in zip(boys, girls):\n",
    "        print(b,'и', g)"
   ]
  },
  {
   "cell_type": "code",
   "execution_count": 31,
   "id": "5ea729ed-6d45-4a09-a605-7f8454481501",
   "metadata": {},
   "outputs": [
    {
     "name": "stdout",
     "output_type": "stream",
     "text": [
      "Результат: Внимание, кто-то может остаться без пары!\n"
     ]
    }
   ],
   "source": [
    "boys = ['Peter', 'Alex', 'John', 'Arthur', 'Richard', 'Michael'] \n",
    "girls = ['Kate', 'Liza', 'Kira', 'Emma', 'Trisha'] \n",
    "boys.sort()\n",
    "girls.sort()\n",
    "if len(boys)!=len(girls):\n",
    "    print('Результат: Внимание, кто-то может остаться без пары!')\n",
    "else:\n",
    "    print('Результат:\\nИдеальные пары:')\n",
    "    for b, g in zip(boys, girls):\n",
    "        print(b,'и', g)"
   ]
  }
 ],
 "metadata": {
  "kernelspec": {
   "display_name": "Python [conda env:base] *",
   "language": "python",
   "name": "conda-base-py"
  },
  "language_info": {
   "codemirror_mode": {
    "name": "ipython",
    "version": 3
   },
   "file_extension": ".py",
   "mimetype": "text/x-python",
   "name": "python",
   "nbconvert_exporter": "python",
   "pygments_lexer": "ipython3",
   "version": "3.13.5"
  }
 },
 "nbformat": 4,
 "nbformat_minor": 5
}
