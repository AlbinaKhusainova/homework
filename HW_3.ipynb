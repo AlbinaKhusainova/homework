{
 "cells": [
  {
   "cell_type": "markdown",
   "id": "da18e3fc-8f2c-44c6-8e34-24b8d662c710",
   "metadata": {},
   "source": [
    "Задание 1"
   ]
  },
  {
   "cell_type": "code",
   "execution_count": 67,
   "id": "3e0878ff-06c3-43e1-8573-4a9707f31ad8",
   "metadata": {},
   "outputs": [
    {
     "name": "stdout",
     "output_type": "stream",
     "text": [
      "{98, 35, 15, 213, 54, 119}\n"
     ]
    }
   ],
   "source": [
    "ids = {'user1': [213, 213, 213, 15, 213], \n",
    "       'user2': [54, 54, 119, 119, 119], \n",
    "       'user3': [213, 98, 98, 35]}\n",
    "\n",
    "unique_geotags=set()\n",
    "\n",
    "for tags in ids.values():\n",
    "    for points in tags:\n",
    "        unique_geotags.add(points)\n",
    "\n",
    "print(unique_geotags)"
   ]
  },
  {
   "cell_type": "markdown",
   "id": "fe854ae8-40c8-48f6-a67f-080aa6d29d91",
   "metadata": {},
   "source": [
    "Задание 2"
   ]
  },
  {
   "cell_type": "code",
   "execution_count": 70,
   "id": "0064f9e1-d229-4199-9b5d-d2ca14b49a52",
   "metadata": {},
   "outputs": [
    {
     "name": "stdout",
     "output_type": "stream",
     "text": [
      "Распределение количества слов в запросах:\n",
      "2 слово(-а): 3\n",
      "3 слово(-а): 4\n"
     ]
    }
   ],
   "source": [
    "queries = [\n",
    "    'смотреть сериалы онлайн',\n",
    "    'новости спорта',\n",
    "    'афиша кино',\n",
    "    'курс доллара',\n",
    "    'сериалы этим летом',\n",
    "    'курс по питону',\n",
    "    'сериалы про спорт',\n",
    "]\n",
    "\n",
    "word_count_freq = {}\n",
    "\n",
    "# Проходим по каждому запросу и считаем количество слов\n",
    "for q in queries:\n",
    "    # Разбиваем запрос на слова и получаем длину списка\n",
    "    word_count = len(q.split())\n",
    "    \n",
    "    # Если такое количество слов ещё не было учтено, добавляем новый ключ,\n",
    "    # иначе увеличиваем счётчик существующего ключа\n",
    "    if word_count not in word_count_freq:\n",
    "        word_count_freq[word_count] = 1\n",
    "    else:\n",
    "        word_count_freq[word_count] += 1\n",
    "# Выводим итоговую статистику\n",
    "print(\"Распределение количества слов в запросах:\")\n",
    "for count, freq in sorted(word_count_freq.items()):\n",
    "   print(f\"{count} слово(-а): {freq}\")\n",
    "    "
   ]
  },
  {
   "cell_type": "code",
   "execution_count": null,
   "id": "142442f6-4148-4b8d-a374-53097b5c7805",
   "metadata": {},
   "outputs": [],
   "source": []
  }
 ],
 "metadata": {
  "kernelspec": {
   "display_name": "Python [conda env:base] *",
   "language": "python",
   "name": "conda-base-py"
  },
  "language_info": {
   "codemirror_mode": {
    "name": "ipython",
    "version": 3
   },
   "file_extension": ".py",
   "mimetype": "text/x-python",
   "name": "python",
   "nbconvert_exporter": "python",
   "pygments_lexer": "ipython3",
   "version": "3.13.5"
  }
 },
 "nbformat": 4,
 "nbformat_minor": 5
}
